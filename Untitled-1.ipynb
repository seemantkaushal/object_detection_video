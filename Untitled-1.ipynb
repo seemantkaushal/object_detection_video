{
 "cells": [
  {
   "cell_type": "code",
   "execution_count": null,
   "metadata": {},
   "outputs": [],
   "source": [
    "# pip install opencv-python"
   ]
  },
  {
   "cell_type": "code",
   "execution_count": null,
   "metadata": {},
   "outputs": [],
   "source": [
    "import cv2\n",
    "import os"
   ]
  },
  {
   "cell_type": "code",
   "execution_count": null,
   "metadata": {},
   "outputs": [],
   "source": [
    "import cv2\n",
    "import os\n",
    "\n",
    "# Create a directory to save frames\n",
    "frames_dir = \"D:/Desktop/AI4SEE PRIVATE LIMITED/object_frame\"\n",
    "os.makedirs(frames_dir, exist_ok=True)\n",
    "\n",
    "# Load video\n",
    "video_path = \"D:/Desktop/AI4SEE PRIVATE LIMITED/video.mp4\"  # Replace with your video file path\n",
    "cap = cv2.VideoCapture(video_path)\n",
    "\n",
    "frame_count = 0\n",
    "\n",
    "while True:\n",
    "    ret, frame = cap.read()\n",
    "    if not ret:\n",
    "        break\n",
    "\n",
    "    frame_count += 1\n",
    "    frame_path = os.path.join(frames_dir, f\"frame_{frame_count}.jpg\")\n",
    "    cv2.imwrite(frame_path, frame)\n",
    "\n",
    "cap.release()\n"
   ]
  },
  {
   "cell_type": "code",
   "execution_count": null,
   "metadata": {},
   "outputs": [],
   "source": [
    "# pip install matplotlib "
   ]
  },
  {
   "cell_type": "code",
   "execution_count": null,
   "metadata": {},
   "outputs": [],
   "source": [
    "import cv2\n",
    "import os\n",
    "\n",
    "import matplotlib.pyplot as plt\n",
    "\n",
    "config_file = 'ssd_mobilenet_v3_large_coco_2020_01_14.pbtxt'\n",
    "frozen_model = 'frozen_inference_graph.pb'\n",
    "\n",
    "model = cv2.dnn_DetectionModel(frozen_model, config_file)\n",
    "\n",
    "classLabels = []\n",
    "filename = 'labels.txt'\n",
    "with open(filename, 'rt') as spt:\n",
    "    classLabels = spt.read().rstrip('\\n').split('\\n')\n",
    "    \n",
    "    \n",
    "model.setInputSize(320, 320) #greater this value better the reults tune it for best output\n",
    "model.setInputScale(1.0/127.5)\n",
    "model.setInputMean((127.5, 127.5, 127.5))\n",
    "model.setInputSwapRB(True)\n",
    "folder_path=\"D:/Desktop/AI4SEE PRIVATE LIMITED/object_frame\"\n",
    "frame_count=0\n",
    "for filename in os.listdir(folder_path):\n",
    "    if filename.endswith('.jpg') or filename.endswith('.png'):\n",
    "        # Load the image\n",
    "        img_path = os.path.join(folder_path, filename)\n",
    "        img = cv2.imread(img_path)\n",
    "        \n",
    "        if img is None:\n",
    "            print(f\"Image {filename} not found or could not be loaded.\")\n",
    "            continue\n",
    "        # cv2.imshow('result', img)\n",
    "        # cv2.waitKey(0)\n",
    "    # img = cv2.imread('D:/Desktop/AI4SEE PRIVATE LIMITED/frame_220.jpg')\n",
    "\n",
    "        classIndex, confidence, bbox = model.detect(img, confThreshold=0.5) #tune confThreshold for best results\n",
    "\n",
    "\n",
    "        font = cv2.FONT_HERSHEY_PLAIN\n",
    "        if len(classIndex) != 0:\n",
    "            # print(\" objects detected.\")\n",
    "            for classInd, conf, boxes in zip(classIndex.flatten(), confidence.flatten(), bbox):\n",
    "                cv2.rectangle(img, boxes, (255, 0, 0), 2)\n",
    "                cv2.putText(img, classLabels[classInd-1], (boxes[0] + 10, boxes[1] + 40), font, fontScale = 3, color=(0, 255, 0), thickness=3)\n",
    "                \n",
    "                \n",
    "            # plt.imshow(img)\n",
    "            # plt.title(f\"Result - {filename}\")\n",
    "            # plt.axis('off')\n",
    "            # plt.show()\n",
    "            frame_count+=1\n",
    "            frame_path = os.path.join(\"D:/Desktop/AI4SEE PRIVATE LIMITED/detected_frame\", f\"detct_frame_{frame_count}.jpg\")\n",
    "            cv2.imwrite(frame_path, img)\n",
    "\n",
    "        else :\n",
    "            print(\"NO object detected\")\n",
    "\n",
    "\n",
    "        "
   ]
  },
  {
   "cell_type": "code",
   "execution_count": null,
   "metadata": {},
   "outputs": [],
   "source": []
  }
 ],
 "metadata": {
  "kernelspec": {
   "display_name": "Python 3",
   "language": "python",
   "name": "python3"
  },
  "language_info": {
   "codemirror_mode": {
    "name": "ipython",
    "version": 3
   },
   "file_extension": ".py",
   "mimetype": "text/x-python",
   "name": "python",
   "nbconvert_exporter": "python",
   "pygments_lexer": "ipython3",
   "version": "3.12.0"
  }
 },
 "nbformat": 4,
 "nbformat_minor": 2
}
